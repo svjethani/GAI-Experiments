{
 "cells": [
  {
   "cell_type": "code",
   "execution_count": 1,
   "id": "8659ff7c-9bc5-43b8-a12b-1ba11f9c2b0d",
   "metadata": {},
   "outputs": [],
   "source": [
    "from langchain_community.llms import Ollama\n",
    "llm = Ollama(model=\"llama2\")"
   ]
  },
  {
   "cell_type": "code",
   "execution_count": 2,
   "id": "5c8b7b91-664d-4083-9354-119ce2632dc2",
   "metadata": {},
   "outputs": [
    {
     "data": {
      "text/plain": [
       "\"\\n Running Llama2 locally on your device can offer several benefits, including:\\n\\n1. Faster Performance: By running Llama2 locally, you can reduce the latency associated with sending requests to a remote server. This can result in faster response times and a smoother user experience.\\n2. Increased Security: Running Llama2 locally can help protect your data from potential security threats that may be present on public networks or servers. By keeping your data local, you can better control access to it and reduce the risk of unauthorized access.\\n3. Better Control Over Data: When you run Llma2 locally, you have more control over how your data is stored and managed. You can choose where your data is stored, who has access to it, and how it is encrypted.\\n4. Reduced Dependence on External Services: By running Llama2 locally, you are not relying on external services to function. This can be particularly important in areas with unreliable or restricted internet access.\\n5. Cost-Effective: Running Llama2 locally does not require any additional hardware costs or subscription fees, making it a cost-effective solution for data storage and management.\\n6. Better Scalability: Llama2 can be easily scaled up or down depending on your needs by simply adding or removing instances of the application running locally. This can provide more flexibility and scalability than traditional cloud-based solutions.\\n7. No Data Transfer Costs: When you run Llma2 locally, you don't have to worry about data transfer costs associated with uploading and downloading data from a remote server.\\n8. Simplified Data Management: With Llama2 running locally, you can easily manage your data using tools like SQL or NoSQL databases, without the need for complex integrations with external services.\\n9. Better Collaboration: By running Llma2 locally, you can allow other users to access and collaborate on your data more easily, as they do not have to worry about internet connectivity or remote server availability.\\n10. Customization: Running Llma2 locally gives you full control over the customization of the application and its features, allowing you to tailor it to your specific needs.\""
      ]
     },
     "execution_count": 2,
     "metadata": {},
     "output_type": "execute_result"
    }
   ],
   "source": [
    "llm.invoke(\"What are the benefits of running of running llama2 locally on your device?\")"
   ]
  }
 ],
 "metadata": {
  "kernelspec": {
   "display_name": "Python 3 (ipykernel)",
   "language": "python",
   "name": "python3"
  },
  "language_info": {
   "codemirror_mode": {
    "name": "ipython",
    "version": 3
   },
   "file_extension": ".py",
   "mimetype": "text/x-python",
   "name": "python",
   "nbconvert_exporter": "python",
   "pygments_lexer": "ipython3",
   "version": "3.12.0"
  }
 },
 "nbformat": 4,
 "nbformat_minor": 5
}
